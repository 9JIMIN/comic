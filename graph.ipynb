{
 "cells": [
  {
   "cell_type": "code",
   "execution_count": 22,
   "metadata": {},
   "outputs": [],
   "source": [
    "from pymongo import MongoClient\n",
    "import pprint\n",
    "import pandas as pd\n",
    "import matplotlib.pyplot as plt\n",
    "\n",
    "from matplotlib import font_manager, rc\n",
    "font_name = font_manager.FontProperties(fname=\"c:/Windows/Fonts/malgun.ttf\").get_name()\n",
    "rc('font', family=font_name)\n",
    "\n",
    "db=MongoClient()[\"comic\"]"
   ]
  },
  {
   "cell_type": "markdown",
   "metadata": {},
   "source": [
    "# 요일별 웹툰 \n",
    "좋아요평균"
   ]
  },
  {
   "cell_type": "code",
   "execution_count": 23,
   "metadata": {},
   "outputs": [
    {
     "output_type": "execute_result",
     "data": {
      "text/plain": "  weekday        avgLike\n0     thu  173260.255319\n1     sat  155627.562500\n2     tue  185206.500000\n3     mon  176405.450980\n4     fri  180965.958333\n5     wed  169281.549020\n6     sun  111100.857143",
      "text/html": "<div>\n<style scoped>\n    .dataframe tbody tr th:only-of-type {\n        vertical-align: middle;\n    }\n\n    .dataframe tbody tr th {\n        vertical-align: top;\n    }\n\n    .dataframe thead th {\n        text-align: right;\n    }\n</style>\n<table border=\"1\" class=\"dataframe\">\n  <thead>\n    <tr style=\"text-align: right;\">\n      <th></th>\n      <th>weekday</th>\n      <th>avgLike</th>\n    </tr>\n  </thead>\n  <tbody>\n    <tr>\n      <th>0</th>\n      <td>thu</td>\n      <td>173260.255319</td>\n    </tr>\n    <tr>\n      <th>1</th>\n      <td>sat</td>\n      <td>155627.562500</td>\n    </tr>\n    <tr>\n      <th>2</th>\n      <td>tue</td>\n      <td>185206.500000</td>\n    </tr>\n    <tr>\n      <th>3</th>\n      <td>mon</td>\n      <td>176405.450980</td>\n    </tr>\n    <tr>\n      <th>4</th>\n      <td>fri</td>\n      <td>180965.958333</td>\n    </tr>\n    <tr>\n      <th>5</th>\n      <td>wed</td>\n      <td>169281.549020</td>\n    </tr>\n    <tr>\n      <th>6</th>\n      <td>sun</td>\n      <td>111100.857143</td>\n    </tr>\n  </tbody>\n</table>\n</div>"
     },
     "metadata": {},
     "execution_count": 23
    }
   ],
   "source": [
    "webtoons=db[\"webtoons\"]\n",
    "\n",
    "pipeline=[\n",
    "    {\n",
    "        '$unwind': {\n",
    "            'path': '$dayrank'\n",
    "        }\n",
    "    }, {\n",
    "        '$group': {\n",
    "            '_id': '$dayrank.day', \n",
    "            'totalLike': {\n",
    "                '$sum': '$likeIt'\n",
    "            }, \n",
    "            'totalWebtoons': {\n",
    "                '$sum': 1\n",
    "            }\n",
    "        }\n",
    "    }, {\n",
    "        '$set': {\n",
    "            'weekday': '$_id', \n",
    "            'avgLike': {\n",
    "                '$divide': [\n",
    "                    '$totalLike', '$totalWebtoons'\n",
    "                ]\n",
    "            }\n",
    "        }\n",
    "    }, {\n",
    "        '$project': {\n",
    "            'weekday': 1, \n",
    "            'avgLike': 1, \n",
    "            '_id': 0\n",
    "        }\n",
    "    }\n",
    "]\n",
    "\n",
    "plist = list(webtoons.aggregate(pipeline))\n",
    "\n",
    "df=pd.DataFrame(plist)\n",
    "df"
   ]
  },
  {
   "cell_type": "code",
   "execution_count": 24,
   "metadata": {},
   "outputs": [
    {
     "output_type": "execute_result",
     "data": {
      "text/plain": "  weekday        avgLike\n5     wed  169281.549020\n0     thu  173260.255319\n6     sun  111100.857143\n4     fri  180965.958333\n2     tue  185206.500000\n3     mon  176405.450980\n1     sat  155627.562500",
      "text/html": "<div>\n<style scoped>\n    .dataframe tbody tr th:only-of-type {\n        vertical-align: middle;\n    }\n\n    .dataframe tbody tr th {\n        vertical-align: top;\n    }\n\n    .dataframe thead th {\n        text-align: right;\n    }\n</style>\n<table border=\"1\" class=\"dataframe\">\n  <thead>\n    <tr style=\"text-align: right;\">\n      <th></th>\n      <th>weekday</th>\n      <th>avgLike</th>\n    </tr>\n  </thead>\n  <tbody>\n    <tr>\n      <th>5</th>\n      <td>wed</td>\n      <td>169281.549020</td>\n    </tr>\n    <tr>\n      <th>0</th>\n      <td>thu</td>\n      <td>173260.255319</td>\n    </tr>\n    <tr>\n      <th>6</th>\n      <td>sun</td>\n      <td>111100.857143</td>\n    </tr>\n    <tr>\n      <th>4</th>\n      <td>fri</td>\n      <td>180965.958333</td>\n    </tr>\n    <tr>\n      <th>2</th>\n      <td>tue</td>\n      <td>185206.500000</td>\n    </tr>\n    <tr>\n      <th>3</th>\n      <td>mon</td>\n      <td>176405.450980</td>\n    </tr>\n    <tr>\n      <th>1</th>\n      <td>sat</td>\n      <td>155627.562500</td>\n    </tr>\n  </tbody>\n</table>\n</div>"
     },
     "metadata": {},
     "execution_count": 24
    }
   ],
   "source": [
    "df=df.reindex([5,0,6,4,2,3,1]) # 아니 이거 실행할때마다 순서 바뀌는데 value정보로 정렬못하나??\n",
    "df"
   ]
  },
  {
   "cell_type": "code",
   "execution_count": 25,
   "metadata": {},
   "outputs": [
    {
     "output_type": "execute_result",
     "data": {
      "text/plain": "<BarContainer object of 7 artists>"
     },
     "metadata": {},
     "execution_count": 25
    },
    {
     "output_type": "display_data",
     "data": {
      "text/plain": "<Figure size 432x288 with 1 Axes>",
      "image/svg+xml": "<?xml version=\"1.0\" encoding=\"utf-8\" standalone=\"no\"?>\r\n<!DOCTYPE svg PUBLIC \"-//W3C//DTD SVG 1.1//EN\"\r\n  \"http://www.w3.org/Graphics/SVG/1.1/DTD/svg11.dtd\">\r\n<!-- Created with matplotlib (https://matplotlib.org/) -->\r\n<svg height=\"248.79625pt\" version=\"1.1\" viewBox=\"0 0 389.246875 248.79625\" width=\"389.246875pt\" xmlns=\"http://www.w3.org/2000/svg\" xmlns:xlink=\"http://www.w3.org/1999/xlink\">\r\n <defs>\r\n  <style type=\"text/css\">\r\n*{stroke-linecap:butt;stroke-linejoin:round;}\r\n  </style>\r\n </defs>\r\n <g id=\"figure_1\">\r\n  <g id=\"patch_1\">\r\n   <path d=\"M 0 248.79625 \r\nL 389.246875 248.79625 \r\nL 389.246875 0 \r\nL 0 0 \r\nz\r\n\" style=\"fill:none;\"/>\r\n  </g>\r\n  <g id=\"axes_1\">\r\n   <g id=\"patch_2\">\r\n    <path d=\"M 47.246875 224.64 \r\nL 382.046875 224.64 \r\nL 382.046875 7.2 \r\nL 47.246875 7.2 \r\nz\r\n\" style=\"fill:#ffffff;\"/>\r\n   </g>\r\n   <g id=\"patch_3\">\r\n    <path clip-path=\"url(#p2c8af98b03)\" d=\"M 62.465057 224.64 \r\nL 98.272543 224.64 \r\nL 98.272543 35.360517 \r\nL 62.465057 35.360517 \r\nz\r\n\" style=\"fill:#1f77b4;\"/>\r\n   </g>\r\n   <g id=\"patch_4\">\r\n    <path clip-path=\"url(#p2c8af98b03)\" d=\"M 107.224415 224.64 \r\nL 143.031902 224.64 \r\nL 143.031902 30.91179 \r\nL 107.224415 30.91179 \r\nz\r\n\" style=\"fill:#1f77b4;\"/>\r\n   </g>\r\n   <g id=\"patch_5\">\r\n    <path clip-path=\"url(#p2c8af98b03)\" d=\"M 151.983773 224.64 \r\nL 187.79126 224.64 \r\nL 187.79126 100.414336 \r\nL 151.983773 100.414336 \r\nz\r\n\" style=\"fill:#1f77b4;\"/>\r\n   </g>\r\n   <g id=\"patch_6\">\r\n    <path clip-path=\"url(#p2c8af98b03)\" d=\"M 196.743132 224.64 \r\nL 232.550618 224.64 \r\nL 232.550618 22.29578 \r\nL 196.743132 22.29578 \r\nz\r\n\" style=\"fill:#1f77b4;\"/>\r\n   </g>\r\n   <g id=\"patch_7\">\r\n    <path clip-path=\"url(#p2c8af98b03)\" d=\"M 241.50249 224.64 \r\nL 277.309977 224.64 \r\nL 277.309977 17.554286 \r\nL 241.50249 17.554286 \r\nz\r\n\" style=\"fill:#1f77b4;\"/>\r\n   </g>\r\n   <g id=\"patch_8\">\r\n    <path clip-path=\"url(#p2c8af98b03)\" d=\"M 286.261848 224.64 \r\nL 322.069335 224.64 \r\nL 322.069335 27.395039 \r\nL 286.261848 27.395039 \r\nz\r\n\" style=\"fill:#1f77b4;\"/>\r\n   </g>\r\n   <g id=\"patch_9\">\r\n    <path clip-path=\"url(#p2c8af98b03)\" d=\"M 331.021207 224.64 \r\nL 366.828693 224.64 \r\nL 366.828693 50.627506 \r\nL 331.021207 50.627506 \r\nz\r\n\" style=\"fill:#1f77b4;\"/>\r\n   </g>\r\n   <g id=\"matplotlib.axis_1\">\r\n    <g id=\"xtick_1\">\r\n     <g id=\"line2d_1\">\r\n      <defs>\r\n       <path d=\"M 0 0 \r\nL 0 3.5 \r\n\" id=\"m7b23e6b091\" style=\"stroke:#000000;stroke-width:0.8;\"/>\r\n      </defs>\r\n      <g>\r\n       <use style=\"stroke:#000000;stroke-width:0.8;\" x=\"80.3688\" xlink:href=\"#m7b23e6b091\" y=\"224.64\"/>\r\n      </g>\r\n     </g>\r\n     <g id=\"text_1\">\r\n      <!-- wed -->\r\n      <defs>\r\n       <path d=\"M 72.40625 51.3125 \r\nL 57.03125 0 \r\nL 48.96875 0 \r\nL 38.234375 37.15625 \r\nQ 37.640625 39.15625 37.453125 41.796875 \r\nL 37.25 41.796875 \r\nQ 37.25 40.765625 36.1875 37.25 \r\nL 24.5625 0 \r\nL 16.84375 0 \r\nL 1.265625 51.3125 \r\nL 9.375 51.3125 \r\nL 20.21875 12.40625 \r\nQ 20.703125 10.640625 20.90625 7.859375 \r\nL 21.296875 7.859375 \r\nQ 21.53125 10.25 22.21875 12.5 \r\nL 34.234375 51.3125 \r\nL 41.3125 51.3125 \r\nL 52.09375 12.3125 \r\nQ 52.484375 10.9375 52.828125 7.765625 \r\nL 53.265625 7.765625 \r\nQ 53.375 9.859375 54.109375 12.3125 \r\nL 64.75 51.3125 \r\nz\r\n\" id=\"MalgunGothic-119\"/>\r\n       <path d=\"M 49.3125 23.734375 \r\nL 12.9375 23.734375 \r\nQ 13.1875 14.84375 17.703125 10.125 \r\nQ 22.21875 5.421875 29.828125 5.421875 \r\nQ 38.625 5.421875 45.84375 11.234375 \r\nL 45.84375 3.8125 \r\nQ 38.96875 -1.21875 28.03125 -1.21875 \r\nQ 17.1875 -1.21875 11.0625 5.875 \r\nQ 4.9375 12.984375 4.9375 25.53125 \r\nQ 4.9375 37.203125 11.671875 44.84375 \r\nQ 18.40625 52.484375 28.375 52.484375 \r\nQ 38.328125 52.484375 43.8125 45.96875 \r\nQ 49.3125 39.453125 49.3125 27.9375 \r\nz\r\nM 41.3125 30.5625 \r\nQ 41.3125 37.75 37.859375 41.796875 \r\nQ 34.421875 45.84375 28.265625 45.84375 \r\nQ 22.46875 45.84375 18.265625 41.671875 \r\nQ 14.0625 37.5 13.03125 30.5625 \r\nz\r\n\" id=\"MalgunGothic-101\"/>\r\n       <path d=\"M 51.765625 0 \r\nL 44.09375 0 \r\nL 44.09375 8.84375 \r\nL 43.890625 8.84375 \r\nQ 38.1875 -1.21875 26.171875 -1.21875 \r\nQ 16.5 -1.21875 10.71875 5.6875 \r\nQ 4.9375 12.59375 4.9375 24.46875 \r\nQ 4.9375 37.109375 11.375 44.796875 \r\nQ 17.828125 52.484375 28.375 52.484375 \r\nQ 38.96875 52.484375 43.890625 44.09375 \r\nL 44.09375 44.09375 \r\nL 44.09375 75.921875 \r\nL 51.765625 75.921875 \r\nz\r\nM 44.09375 30.90625 \r\nQ 44.09375 37.15625 39.84375 41.546875 \r\nQ 35.59375 45.953125 29.25 45.953125 \r\nQ 21.625 45.953125 17.203125 40.265625 \r\nQ 12.796875 34.578125 12.796875 24.859375 \r\nQ 12.796875 16.015625 16.96875 10.6875 \r\nQ 21.140625 5.375 28.328125 5.375 \r\nQ 35.15625 5.375 39.625 10.40625 \r\nQ 44.09375 15.4375 44.09375 23.09375 \r\nz\r\n\" id=\"MalgunGothic-100\"/>\r\n      </defs>\r\n      <g transform=\"translate(71.025831 239.232187)scale(0.1 -0.1)\">\r\n       <use xlink:href=\"#MalgunGothic-119\"/>\r\n       <use x=\"73.132812\" xlink:href=\"#MalgunGothic-101\"/>\r\n       <use x=\"126.648438\" xlink:href=\"#MalgunGothic-100\"/>\r\n      </g>\r\n     </g>\r\n    </g>\r\n    <g id=\"xtick_2\">\r\n     <g id=\"line2d_2\">\r\n      <g>\r\n       <use style=\"stroke:#000000;stroke-width:0.8;\" x=\"125.128158\" xlink:href=\"#m7b23e6b091\" y=\"224.64\"/>\r\n      </g>\r\n     </g>\r\n     <g id=\"text_2\">\r\n      <!-- thu -->\r\n      <defs>\r\n       <path d=\"M 31.734375 0.484375 \r\nQ 28.8125 -1.125 24.265625 -1.125 \r\nQ 11.03125 -1.125 11.03125 13.765625 \r\nL 11.03125 44.625 \r\nL 2.15625 44.625 \r\nL 2.15625 51.3125 \r\nL 11.03125 51.3125 \r\nL 11.03125 63.921875 \r\nL 18.75 66.40625 \r\nL 18.75 51.3125 \r\nL 31.734375 51.3125 \r\nL 31.734375 44.625 \r\nL 18.75 44.625 \r\nL 18.75 15.1875 \r\nQ 18.75 9.765625 20.546875 7.609375 \r\nQ 22.359375 5.46875 26.421875 5.46875 \r\nQ 29.5 5.46875 31.734375 7.171875 \r\nz\r\n\" id=\"MalgunGothic-116\"/>\r\n       <path d=\"M 50.59375 0 \r\nL 42.875 0 \r\nL 42.875 29.59375 \r\nQ 42.875 45.953125 30.671875 45.953125 \r\nQ 24.5625 45.953125 20.359375 41.203125 \r\nQ 16.15625 36.46875 16.15625 29.046875 \r\nL 16.15625 0 \r\nL 8.40625 0 \r\nL 8.40625 75.921875 \r\nL 16.15625 75.921875 \r\nL 16.15625 42.71875 \r\nL 16.359375 42.71875 \r\nQ 22.265625 52.484375 33.25 52.484375 \r\nQ 50.59375 52.484375 50.59375 31.59375 \r\nz\r\n\" id=\"MalgunGothic-104\"/>\r\n       <path d=\"M 49.46875 0 \r\nL 41.703125 0 \r\nL 41.703125 8.109375 \r\nL 41.5 8.109375 \r\nQ 36.421875 -1.21875 25.6875 -1.21875 \r\nQ 7.328125 -1.21875 7.328125 20.65625 \r\nL 7.328125 51.3125 \r\nL 14.984375 51.3125 \r\nL 14.984375 21.921875 \r\nQ 14.984375 5.375 27.59375 5.375 \r\nQ 33.734375 5.375 37.71875 9.9375 \r\nQ 41.703125 14.5 41.703125 21.78125 \r\nL 41.703125 51.3125 \r\nL 49.46875 51.3125 \r\nz\r\n\" id=\"MalgunGothic-117\"/>\r\n      </defs>\r\n      <g transform=\"translate(117.621127 239.232187)scale(0.1 -0.1)\">\r\n       <use xlink:href=\"#MalgunGothic-116\"/>\r\n       <use x=\"34.472656\" xlink:href=\"#MalgunGothic-104\"/>\r\n       <use x=\"92.333984\" xlink:href=\"#MalgunGothic-117\"/>\r\n      </g>\r\n     </g>\r\n    </g>\r\n    <g id=\"xtick_3\">\r\n     <g id=\"line2d_3\">\r\n      <g>\r\n       <use style=\"stroke:#000000;stroke-width:0.8;\" x=\"169.887517\" xlink:href=\"#m7b23e6b091\" y=\"224.64\"/>\r\n      </g>\r\n     </g>\r\n     <g id=\"text_3\">\r\n      <!-- sun -->\r\n      <defs>\r\n       <path d=\"M 5.171875 10.453125 \r\nQ 11.921875 5.46875 19.96875 5.46875 \r\nQ 30.90625 5.46875 30.90625 12.84375 \r\nQ 30.90625 16.015625 28.515625 18.09375 \r\nQ 26.125 20.171875 19.09375 22.796875 \r\nQ 10.984375 26.03125 8.125 29.34375 \r\nQ 5.28125 32.671875 5.28125 37.75 \r\nQ 5.28125 44.28125 10.9375 48.375 \r\nQ 16.609375 52.484375 24.75 52.484375 \r\nQ 31.296875 52.484375 36.578125 50.203125 \r\nL 36.578125 42.140625 \r\nQ 30.859375 45.84375 23.53125 45.84375 \r\nQ 18.75 45.84375 16.015625 43.71875 \r\nQ 13.28125 41.609375 13.28125 38.421875 \r\nQ 13.28125 35.015625 15.296875 33.203125 \r\nQ 17.328125 31.390625 24.125 28.71875 \r\nQ 33.296875 25.140625 36.078125 21.71875 \r\nQ 38.875 18.3125 38.875 13.578125 \r\nQ 38.875 6.734375 33.234375 2.75 \r\nQ 27.59375 -1.21875 18.796875 -1.21875 \r\nQ 10.84375 -1.21875 5.171875 1.90625 \r\nz\r\n\" id=\"MalgunGothic-115\"/>\r\n       <path d=\"M 50.59375 0 \r\nL 42.828125 0 \r\nL 42.828125 29.296875 \r\nQ 42.828125 45.953125 30.671875 45.953125 \r\nQ 24.421875 45.953125 20.28125 41.234375 \r\nQ 16.15625 36.53125 16.15625 29.25 \r\nL 16.15625 0 \r\nL 8.40625 0 \r\nL 8.40625 51.3125 \r\nL 16.15625 51.3125 \r\nL 16.15625 42.71875 \r\nL 16.359375 42.71875 \r\nQ 22.125 52.484375 33.203125 52.484375 \r\nQ 41.65625 52.484375 46.125 47.0625 \r\nQ 50.59375 41.65625 50.59375 31.34375 \r\nz\r\n\" id=\"MalgunGothic-110\"/>\r\n      </defs>\r\n      <g transform=\"translate(161.940642 239.232187)scale(0.1 -0.1)\">\r\n       <use xlink:href=\"#MalgunGothic-115\"/>\r\n       <use x=\"43.310547\" xlink:href=\"#MalgunGothic-117\"/>\r\n       <use x=\"101.123047\" xlink:href=\"#MalgunGothic-110\"/>\r\n      </g>\r\n     </g>\r\n    </g>\r\n    <g id=\"xtick_4\">\r\n     <g id=\"line2d_4\">\r\n      <g>\r\n       <use style=\"stroke:#000000;stroke-width:0.8;\" x=\"214.646875\" xlink:href=\"#m7b23e6b091\" y=\"224.64\"/>\r\n      </g>\r\n     </g>\r\n     <g id=\"text_4\">\r\n      <!-- fri -->\r\n      <defs>\r\n       <path d=\"M 33.25 69.09375 \r\nQ 30.859375 70.40625 27.78125 70.40625 \r\nQ 19.09375 70.40625 19.09375 59.375 \r\nL 19.09375 51.3125 \r\nL 31.109375 51.3125 \r\nL 31.109375 44.625 \r\nL 19.09375 44.625 \r\nL 19.09375 0 \r\nL 11.46875 0 \r\nL 11.46875 44.625 \r\nL 2.6875 44.625 \r\nL 2.6875 51.3125 \r\nL 11.46875 51.3125 \r\nL 11.46875 59.765625 \r\nQ 11.46875 67.828125 16.03125 72.4375 \r\nQ 20.609375 77.046875 27.390625 77.046875 \r\nQ 31.15625 77.046875 33.25 76.171875 \r\nz\r\n\" id=\"MalgunGothic-102\"/>\r\n       <path d=\"M 34.765625 43.359375 \r\nQ 32.5625 45.015625 28.5625 45.015625 \r\nQ 23.296875 45.015625 19.71875 39.890625 \r\nQ 16.15625 34.765625 16.15625 26.265625 \r\nL 16.15625 0 \r\nL 8.40625 0 \r\nL 8.40625 51.3125 \r\nL 16.15625 51.3125 \r\nL 16.15625 40.671875 \r\nL 16.359375 40.671875 \r\nQ 18.109375 46.09375 21.703125 49.140625 \r\nQ 25.296875 52.203125 29.734375 52.203125 \r\nQ 32.953125 52.203125 34.765625 51.515625 \r\nz\r\n\" id=\"MalgunGothic-114\"/>\r\n       <path d=\"M 7.375 69.78125 \r\nQ 7.375 71.96875 8.828125 73.453125 \r\nQ 10.296875 74.953125 12.40625 74.953125 \r\nQ 14.59375 74.953125 16.078125 73.4375 \r\nQ 17.578125 71.921875 17.578125 69.78125 \r\nQ 17.578125 67.578125 16.078125 66.109375 \r\nQ 14.59375 64.65625 12.40625 64.65625 \r\nQ 10.296875 64.65625 8.828125 66.09375 \r\nQ 7.375 67.53125 7.375 69.78125 \r\nz\r\nM 8.453125 0 \r\nL 8.453125 51.3125 \r\nL 16.15625 51.3125 \r\nL 16.15625 0 \r\nz\r\n\" id=\"MalgunGothic-105\"/>\r\n      </defs>\r\n      <g transform=\"translate(210.066406 239.232187)scale(0.1 -0.1)\">\r\n       <use xlink:href=\"#MalgunGothic-102\"/>\r\n       <use x=\"31.640625\" xlink:href=\"#MalgunGothic-114\"/>\r\n       <use x=\"66.992188\" xlink:href=\"#MalgunGothic-105\"/>\r\n      </g>\r\n     </g>\r\n    </g>\r\n    <g id=\"xtick_5\">\r\n     <g id=\"line2d_5\">\r\n      <g>\r\n       <use style=\"stroke:#000000;stroke-width:0.8;\" x=\"259.406233\" xlink:href=\"#m7b23e6b091\" y=\"224.64\"/>\r\n      </g>\r\n     </g>\r\n     <g id=\"text_5\">\r\n      <!-- tue -->\r\n      <g transform=\"translate(252.11639 239.232187)scale(0.1 -0.1)\">\r\n       <use xlink:href=\"#MalgunGothic-116\"/>\r\n       <use x=\"34.472656\" xlink:href=\"#MalgunGothic-117\"/>\r\n       <use x=\"92.285156\" xlink:href=\"#MalgunGothic-101\"/>\r\n      </g>\r\n     </g>\r\n    </g>\r\n    <g id=\"xtick_6\">\r\n     <g id=\"line2d_6\">\r\n      <g>\r\n       <use style=\"stroke:#000000;stroke-width:0.8;\" x=\"304.165592\" xlink:href=\"#m7b23e6b091\" y=\"224.64\"/>\r\n      </g>\r\n     </g>\r\n     <g id=\"text_6\">\r\n      <!-- mon -->\r\n      <defs>\r\n       <path d=\"M 80.71875 0 \r\nL 72.953125 0 \r\nL 72.953125 29.4375 \r\nQ 72.953125 38.484375 70.234375 42.21875 \r\nQ 67.53125 45.953125 61.28125 45.953125 \r\nQ 56 45.953125 52.21875 40.984375 \r\nQ 48.4375 36.03125 48.4375 29.296875 \r\nL 48.4375 0 \r\nL 40.71875 0 \r\nL 40.71875 30.515625 \r\nQ 40.71875 45.953125 28.8125 45.953125 \r\nQ 23.390625 45.953125 19.765625 41.28125 \r\nQ 16.15625 36.625 16.15625 29.296875 \r\nL 16.15625 0 \r\nL 8.40625 0 \r\nL 8.40625 51.3125 \r\nL 16.15625 51.3125 \r\nL 16.15625 43.171875 \r\nL 16.359375 43.171875 \r\nQ 21.734375 52.484375 32.234375 52.484375 \r\nQ 37.203125 52.484375 41.1875 49.625 \r\nQ 45.171875 46.78125 46.734375 41.796875 \r\nQ 52.4375 52.484375 63.765625 52.484375 \r\nQ 80.71875 52.484375 80.71875 31.59375 \r\nz\r\n\" id=\"MalgunGothic-109\"/>\r\n       <path d=\"M 4.9375 25 \r\nQ 4.9375 37.796875 11.890625 45.140625 \r\nQ 18.84375 52.484375 30.90625 52.484375 \r\nQ 42.140625 52.484375 48.609375 45.421875 \r\nQ 55.078125 38.375 55.078125 25.78125 \r\nQ 55.078125 13.578125 48.09375 6.171875 \r\nQ 41.109375 -1.21875 29.6875 -1.21875 \r\nQ 18.5 -1.21875 11.71875 6 \r\nQ 4.9375 13.234375 4.9375 25 \r\nz\r\nM 12.796875 25.34375 \r\nQ 12.796875 16.265625 17.546875 10.8125 \r\nQ 22.3125 5.375 30.21875 5.375 \r\nQ 38.421875 5.375 42.796875 10.625 \r\nQ 47.171875 15.875 47.171875 25.53125 \r\nQ 47.171875 35.25 42.765625 40.59375 \r\nQ 38.375 45.953125 30.21875 45.953125 \r\nQ 22.265625 45.953125 17.53125 40.421875 \r\nQ 12.796875 34.90625 12.796875 25.34375 \r\nz\r\n\" id=\"MalgunGothic-111\"/>\r\n      </defs>\r\n      <g transform=\"translate(293.880435 239.232187)scale(0.1 -0.1)\">\r\n       <use xlink:href=\"#MalgunGothic-109\"/>\r\n       <use x=\"87.988281\" xlink:href=\"#MalgunGothic-111\"/>\r\n       <use x=\"147.900391\" xlink:href=\"#MalgunGothic-110\"/>\r\n      </g>\r\n     </g>\r\n    </g>\r\n    <g id=\"xtick_7\">\r\n     <g id=\"line2d_7\">\r\n      <g>\r\n       <use style=\"stroke:#000000;stroke-width:0.8;\" x=\"348.92495\" xlink:href=\"#m7b23e6b091\" y=\"224.64\"/>\r\n      </g>\r\n     </g>\r\n     <g id=\"text_7\">\r\n      <!-- sat -->\r\n      <defs>\r\n       <path d=\"M 9.625 47.65625 \r\nQ 17.140625 52.484375 26.90625 52.484375 \r\nQ 44.78125 52.484375 44.78125 33.546875 \r\nL 44.78125 0 \r\nL 37.015625 0 \r\nL 37.015625 8.0625 \r\nL 36.71875 8.0625 \r\nQ 31.390625 -1.21875 20.953125 -1.21875 \r\nQ 13.421875 -1.21875 9 2.8125 \r\nQ 4.59375 6.84375 4.59375 13.578125 \r\nQ 4.59375 27.875 21.484375 30.21875 \r\nL 36.96875 32.46875 \r\nQ 36.96875 45.84375 26.3125 45.84375 \r\nQ 16.9375 45.84375 9.625 39.453125 \r\nz\r\nM 24.421875 24.359375 \r\nQ 18.40625 23.578125 15.515625 21.421875 \r\nQ 12.640625 19.28125 12.640625 14.109375 \r\nQ 12.640625 10.203125 15.40625 7.8125 \r\nQ 18.171875 5.421875 22.65625 5.421875 \r\nQ 28.859375 5.421875 32.90625 9.8125 \r\nQ 36.96875 14.203125 36.96875 20.84375 \r\nL 36.96875 26.03125 \r\nz\r\n\" id=\"MalgunGothic-97\"/>\r\n      </defs>\r\n      <g transform=\"translate(342.435887 239.232187)scale(0.1 -0.1)\">\r\n       <use xlink:href=\"#MalgunGothic-115\"/>\r\n       <use x=\"43.310547\" xlink:href=\"#MalgunGothic-97\"/>\r\n       <use x=\"95.3125\" xlink:href=\"#MalgunGothic-116\"/>\r\n      </g>\r\n     </g>\r\n    </g>\r\n   </g>\r\n   <g id=\"matplotlib.axis_2\">\r\n    <g id=\"ytick_1\">\r\n     <g id=\"line2d_8\">\r\n      <defs>\r\n       <path d=\"M 0 0 \r\nL -3.5 0 \r\n\" id=\"mf25285bfd1\" style=\"stroke:#000000;stroke-width:0.8;\"/>\r\n      </defs>\r\n      <g>\r\n       <use style=\"stroke:#000000;stroke-width:0.8;\" x=\"47.246875\" xlink:href=\"#mf25285bfd1\" y=\"224.64\"/>\r\n      </g>\r\n     </g>\r\n     <g id=\"text_8\">\r\n      <!-- 0 -->\r\n      <defs>\r\n       <path d=\"M 4.34375 34.46875 \r\nQ 4.34375 53.515625 10.546875 63.28125 \r\nQ 16.75 73.046875 28.421875 73.046875 \r\nQ 50.828125 73.046875 50.828125 36.234375 \r\nQ 50.828125 18.0625 44.59375 8.421875 \r\nQ 38.375 -1.21875 26.8125 -1.21875 \r\nQ 15.875 -1.21875 10.109375 8.125 \r\nQ 4.34375 17.484375 4.34375 34.46875 \r\nz\r\nM 12.25 34.859375 \r\nQ 12.25 5.375 27.640625 5.375 \r\nQ 42.921875 5.375 42.921875 35.296875 \r\nQ 42.921875 66.40625 28.03125 66.40625 \r\nQ 12.25 66.40625 12.25 34.859375 \r\nz\r\n\" id=\"MalgunGothic-48\"/>\r\n      </defs>\r\n      <g transform=\"translate(34.739063 228.436094)scale(0.1 -0.1)\">\r\n       <use xlink:href=\"#MalgunGothic-48\"/>\r\n      </g>\r\n     </g>\r\n    </g>\r\n    <g id=\"ytick_2\">\r\n     <g id=\"line2d_9\">\r\n      <g>\r\n       <use style=\"stroke:#000000;stroke-width:0.8;\" x=\"47.246875\" xlink:href=\"#mf25285bfd1\" y=\"196.686646\"/>\r\n      </g>\r\n     </g>\r\n     <g id=\"text_9\">\r\n      <!-- 25000 -->\r\n      <defs>\r\n       <path d=\"M 39.359375 52.6875 \r\nQ 39.359375 59.125 35.546875 62.78125 \r\nQ 31.734375 66.453125 25.4375 66.453125 \r\nQ 20.953125 66.453125 16.453125 64.125 \r\nQ 11.96875 61.8125 8.34375 57.765625 \r\nL 8.34375 66.15625 \r\nQ 15.328125 73.046875 26.421875 73.046875 \r\nQ 35.640625 73.046875 41.28125 67.71875 \r\nQ 46.921875 62.40625 46.921875 53.375 \r\nQ 46.921875 45.609375 43.3125 39.765625 \r\nQ 39.703125 33.9375 31 27.734375 \r\nQ 22.796875 21.96875 19.59375 18.984375 \r\nQ 16.40625 16.015625 15.109375 13.34375 \r\nQ 13.8125 10.6875 13.8125 7.03125 \r\nL 48.6875 7.03125 \r\nL 48.6875 0 \r\nL 5.5625 0 \r\nL 5.5625 3.515625 \r\nQ 5.5625 9.421875 7.203125 13.59375 \r\nQ 8.84375 17.78125 12.671875 21.75 \r\nQ 16.5 25.734375 24.953125 31.59375 \r\nQ 32.671875 36.921875 36.015625 41.71875 \r\nQ 39.359375 46.53125 39.359375 52.6875 \r\nz\r\n\" id=\"MalgunGothic-50\"/>\r\n       <path d=\"M 48 21.921875 \r\nQ 48 11.28125 41.1875 5.03125 \r\nQ 34.375 -1.21875 22.953125 -1.21875 \r\nQ 12.9375 -1.21875 8.0625 1.765625 \r\nL 8.0625 10.15625 \r\nQ 15.53125 5.375 23.046875 5.375 \r\nQ 30.765625 5.375 35.46875 9.84375 \r\nQ 40.1875 14.3125 40.1875 21.4375 \r\nQ 40.1875 28.71875 35.390625 32.6875 \r\nQ 30.609375 36.671875 21.578125 36.671875 \r\nQ 15.53125 36.671875 9.421875 35.9375 \r\nL 11.859375 71.875 \r\nL 44.828125 71.875 \r\nL 44.828125 64.796875 \r\nL 18.84375 64.796875 \r\nL 17.28125 43.171875 \r\nQ 21.046875 43.5 24.171875 43.5 \r\nQ 35.359375 43.5 41.671875 37.71875 \r\nQ 48 31.9375 48 21.921875 \r\nz\r\n\" id=\"MalgunGothic-53\"/>\r\n      </defs>\r\n      <g transform=\"translate(12.707813 200.48274)scale(0.1 -0.1)\">\r\n       <use xlink:href=\"#MalgunGothic-50\"/>\r\n       <use x=\"55.078125\" xlink:href=\"#MalgunGothic-53\"/>\r\n       <use x=\"110.15625\" xlink:href=\"#MalgunGothic-48\"/>\r\n       <use x=\"165.234375\" xlink:href=\"#MalgunGothic-48\"/>\r\n       <use x=\"220.3125\" xlink:href=\"#MalgunGothic-48\"/>\r\n      </g>\r\n     </g>\r\n    </g>\r\n    <g id=\"ytick_3\">\r\n     <g id=\"line2d_10\">\r\n      <g>\r\n       <use style=\"stroke:#000000;stroke-width:0.8;\" x=\"47.246875\" xlink:href=\"#mf25285bfd1\" y=\"168.733292\"/>\r\n      </g>\r\n     </g>\r\n     <g id=\"text_10\">\r\n      <!-- 50000 -->\r\n      <g transform=\"translate(12.707813 172.529386)scale(0.1 -0.1)\">\r\n       <use xlink:href=\"#MalgunGothic-53\"/>\r\n       <use x=\"55.078125\" xlink:href=\"#MalgunGothic-48\"/>\r\n       <use x=\"110.15625\" xlink:href=\"#MalgunGothic-48\"/>\r\n       <use x=\"165.234375\" xlink:href=\"#MalgunGothic-48\"/>\r\n       <use x=\"220.3125\" xlink:href=\"#MalgunGothic-48\"/>\r\n      </g>\r\n     </g>\r\n    </g>\r\n    <g id=\"ytick_4\">\r\n     <g id=\"line2d_11\">\r\n      <g>\r\n       <use style=\"stroke:#000000;stroke-width:0.8;\" x=\"47.246875\" xlink:href=\"#mf25285bfd1\" y=\"140.779938\"/>\r\n      </g>\r\n     </g>\r\n     <g id=\"text_11\">\r\n      <!-- 75000 -->\r\n      <defs>\r\n       <path d=\"M 50.203125 67.140625 \r\nQ 38.71875 46.96875 32.25 29.96875 \r\nQ 25.78125 12.984375 24.21875 0 \r\nL 15.765625 0 \r\nQ 16.9375 8.296875 20.15625 18.375 \r\nQ 23.390625 28.46875 28.359375 39.640625 \r\nQ 33.34375 50.828125 41.109375 64.796875 \r\nL 4.546875 64.796875 \r\nL 4.546875 71.875 \r\nL 50.203125 71.875 \r\nz\r\n\" id=\"MalgunGothic-55\"/>\r\n      </defs>\r\n      <g transform=\"translate(12.707813 144.576032)scale(0.1 -0.1)\">\r\n       <use xlink:href=\"#MalgunGothic-55\"/>\r\n       <use x=\"55.078125\" xlink:href=\"#MalgunGothic-53\"/>\r\n       <use x=\"110.15625\" xlink:href=\"#MalgunGothic-48\"/>\r\n       <use x=\"165.234375\" xlink:href=\"#MalgunGothic-48\"/>\r\n       <use x=\"220.3125\" xlink:href=\"#MalgunGothic-48\"/>\r\n      </g>\r\n     </g>\r\n    </g>\r\n    <g id=\"ytick_5\">\r\n     <g id=\"line2d_12\">\r\n      <g>\r\n       <use style=\"stroke:#000000;stroke-width:0.8;\" x=\"47.246875\" xlink:href=\"#mf25285bfd1\" y=\"112.826584\"/>\r\n      </g>\r\n     </g>\r\n     <g id=\"text_12\">\r\n      <!-- 100000 -->\r\n      <defs>\r\n       <path d=\"M 34.859375 0 \r\nL 27.09375 0 \r\nL 27.09375 62.0625 \r\nQ 24.859375 59.8125 19.78125 57.203125 \r\nQ 14.703125 54.59375 10.5 53.5625 \r\nL 10.5 61.859375 \r\nQ 15.875 63.375 22.015625 66.796875 \r\nQ 28.171875 70.21875 31.734375 73.4375 \r\nL 34.859375 73.4375 \r\nz\r\n\" id=\"MalgunGothic-49\"/>\r\n      </defs>\r\n      <g transform=\"translate(7.2 116.622678)scale(0.1 -0.1)\">\r\n       <use xlink:href=\"#MalgunGothic-49\"/>\r\n       <use x=\"55.078125\" xlink:href=\"#MalgunGothic-48\"/>\r\n       <use x=\"110.15625\" xlink:href=\"#MalgunGothic-48\"/>\r\n       <use x=\"165.234375\" xlink:href=\"#MalgunGothic-48\"/>\r\n       <use x=\"220.3125\" xlink:href=\"#MalgunGothic-48\"/>\r\n       <use x=\"275.390625\" xlink:href=\"#MalgunGothic-48\"/>\r\n      </g>\r\n     </g>\r\n    </g>\r\n    <g id=\"ytick_6\">\r\n     <g id=\"line2d_13\">\r\n      <g>\r\n       <use style=\"stroke:#000000;stroke-width:0.8;\" x=\"47.246875\" xlink:href=\"#mf25285bfd1\" y=\"84.87323\"/>\r\n      </g>\r\n     </g>\r\n     <g id=\"text_13\">\r\n      <!-- 125000 -->\r\n      <g transform=\"translate(7.2 88.669324)scale(0.1 -0.1)\">\r\n       <use xlink:href=\"#MalgunGothic-49\"/>\r\n       <use x=\"55.078125\" xlink:href=\"#MalgunGothic-50\"/>\r\n       <use x=\"110.15625\" xlink:href=\"#MalgunGothic-53\"/>\r\n       <use x=\"165.234375\" xlink:href=\"#MalgunGothic-48\"/>\r\n       <use x=\"220.3125\" xlink:href=\"#MalgunGothic-48\"/>\r\n       <use x=\"275.390625\" xlink:href=\"#MalgunGothic-48\"/>\r\n      </g>\r\n     </g>\r\n    </g>\r\n    <g id=\"ytick_7\">\r\n     <g id=\"line2d_14\">\r\n      <g>\r\n       <use style=\"stroke:#000000;stroke-width:0.8;\" x=\"47.246875\" xlink:href=\"#mf25285bfd1\" y=\"56.919876\"/>\r\n      </g>\r\n     </g>\r\n     <g id=\"text_14\">\r\n      <!-- 150000 -->\r\n      <g transform=\"translate(7.2 60.71597)scale(0.1 -0.1)\">\r\n       <use xlink:href=\"#MalgunGothic-49\"/>\r\n       <use x=\"55.078125\" xlink:href=\"#MalgunGothic-53\"/>\r\n       <use x=\"110.15625\" xlink:href=\"#MalgunGothic-48\"/>\r\n       <use x=\"165.234375\" xlink:href=\"#MalgunGothic-48\"/>\r\n       <use x=\"220.3125\" xlink:href=\"#MalgunGothic-48\"/>\r\n       <use x=\"275.390625\" xlink:href=\"#MalgunGothic-48\"/>\r\n      </g>\r\n     </g>\r\n    </g>\r\n    <g id=\"ytick_8\">\r\n     <g id=\"line2d_15\">\r\n      <g>\r\n       <use style=\"stroke:#000000;stroke-width:0.8;\" x=\"47.246875\" xlink:href=\"#mf25285bfd1\" y=\"28.966522\"/>\r\n      </g>\r\n     </g>\r\n     <g id=\"text_15\">\r\n      <!-- 175000 -->\r\n      <g transform=\"translate(7.2 32.762616)scale(0.1 -0.1)\">\r\n       <use xlink:href=\"#MalgunGothic-49\"/>\r\n       <use x=\"55.078125\" xlink:href=\"#MalgunGothic-55\"/>\r\n       <use x=\"110.15625\" xlink:href=\"#MalgunGothic-53\"/>\r\n       <use x=\"165.234375\" xlink:href=\"#MalgunGothic-48\"/>\r\n       <use x=\"220.3125\" xlink:href=\"#MalgunGothic-48\"/>\r\n       <use x=\"275.390625\" xlink:href=\"#MalgunGothic-48\"/>\r\n      </g>\r\n     </g>\r\n    </g>\r\n   </g>\r\n   <g id=\"patch_10\">\r\n    <path d=\"M 47.246875 224.64 \r\nL 47.246875 7.2 \r\n\" style=\"fill:none;stroke:#000000;stroke-linecap:square;stroke-linejoin:miter;stroke-width:0.8;\"/>\r\n   </g>\r\n   <g id=\"patch_11\">\r\n    <path d=\"M 382.046875 224.64 \r\nL 382.046875 7.2 \r\n\" style=\"fill:none;stroke:#000000;stroke-linecap:square;stroke-linejoin:miter;stroke-width:0.8;\"/>\r\n   </g>\r\n   <g id=\"patch_12\">\r\n    <path d=\"M 47.246875 224.64 \r\nL 382.046875 224.64 \r\n\" style=\"fill:none;stroke:#000000;stroke-linecap:square;stroke-linejoin:miter;stroke-width:0.8;\"/>\r\n   </g>\r\n   <g id=\"patch_13\">\r\n    <path d=\"M 47.246875 7.2 \r\nL 382.046875 7.2 \r\n\" style=\"fill:none;stroke:#000000;stroke-linecap:square;stroke-linejoin:miter;stroke-width:0.8;\"/>\r\n   </g>\r\n  </g>\r\n </g>\r\n <defs>\r\n  <clipPath id=\"p2c8af98b03\">\r\n   <rect height=\"217.44\" width=\"334.8\" x=\"47.246875\" y=\"7.2\"/>\r\n  </clipPath>\r\n </defs>\r\n</svg>\r\n",
      "image/png": "[encoded data removed]"
     },
     "metadata": {
      "needs_background": "light"
     }
    }
   ],
   "source": [
    "fig, ax = plt.subplots()\n",
    "\n",
    "ax.bar(list(df.weekday), list(df.avgLike))"
   ]
  },
  {
   "cell_type": "markdown",
   "metadata": {},
   "source": [
    "# 주 2회 연재 만화 보기"
   ]
  },
  {
   "cell_type": "code",
   "execution_count": 26,
   "metadata": {},
   "outputs": [
    {
     "output_type": "execute_result",
     "data": {
      "text/plain": "        title         day\n0      모죠의 일지  [wed, sat]\n1     유미의 세포들  [wed, sat]\n2         데이빗  [thu, sun]\n3  닥터앤닥터 육아일기  [wed, sun]\n4      사소한 냐냐  [mon, thu]\n5     패밀리 사이즈  [tue, sun]\n6       윌유메리미  [tue, sat]\n7        삼국지톡  [tue, fri]",
      "text/html": "<div>\n<style scoped>\n    .dataframe tbody tr th:only-of-type {\n        vertical-align: middle;\n    }\n\n    .dataframe tbody tr th {\n        vertical-align: top;\n    }\n\n    .dataframe thead th {\n        text-align: right;\n    }\n</style>\n<table border=\"1\" class=\"dataframe\">\n  <thead>\n    <tr style=\"text-align: right;\">\n      <th></th>\n      <th>title</th>\n      <th>day</th>\n    </tr>\n  </thead>\n  <tbody>\n    <tr>\n      <th>0</th>\n      <td>모죠의 일지</td>\n      <td>[wed, sat]</td>\n    </tr>\n    <tr>\n      <th>1</th>\n      <td>유미의 세포들</td>\n      <td>[wed, sat]</td>\n    </tr>\n    <tr>\n      <th>2</th>\n      <td>데이빗</td>\n      <td>[thu, sun]</td>\n    </tr>\n    <tr>\n      <th>3</th>\n      <td>닥터앤닥터 육아일기</td>\n      <td>[wed, sun]</td>\n    </tr>\n    <tr>\n      <th>4</th>\n      <td>사소한 냐냐</td>\n      <td>[mon, thu]</td>\n    </tr>\n    <tr>\n      <th>5</th>\n      <td>패밀리 사이즈</td>\n      <td>[tue, sun]</td>\n    </tr>\n    <tr>\n      <th>6</th>\n      <td>윌유메리미</td>\n      <td>[tue, sat]</td>\n    </tr>\n    <tr>\n      <th>7</th>\n      <td>삼국지톡</td>\n      <td>[tue, fri]</td>\n    </tr>\n  </tbody>\n</table>\n</div>"
     },
     "metadata": {},
     "execution_count": 26
    }
   ],
   "source": [
    "pipeline=[\n",
    "    {\n",
    "        '$match': {\n",
    "            '$expr': {\n",
    "                '$gt': [\n",
    "                    {\n",
    "                        '$size': '$dayrank'\n",
    "                    }, 1\n",
    "                ]\n",
    "            }\n",
    "        }\n",
    "    }, {\n",
    "        '$set': {\n",
    "            'day': '$dayrank.day'\n",
    "        }\n",
    "    }, {\n",
    "        '$project': {\n",
    "            'title': 1, \n",
    "            'day': 1, \n",
    "            '_id': 0\n",
    "        }\n",
    "    }\n",
    "]\n",
    "\n",
    "plist=list(webtoons.aggregate(pipeline))\n",
    "\n",
    "df=pd.DataFrame(plist)\n",
    "df"
   ]
  }
 ],
 "metadata": {
  "language_info": {
   "codemirror_mode": {
    "name": "ipython",
    "version": 3
   },
   "file_extension": ".py",
   "mimetype": "text/x-python",
   "name": "python",
   "nbconvert_exporter": "python",
   "pygments_lexer": "ipython3",
   "version": "3.8.2-final"
  },
  "orig_nbformat": 2,
  "kernelspec": {
   "name": "python38232bitvenvvenv6a9295457ac84563a72d2d106c512c6f",
   "display_name": "Python 3.8.2 32-bit ('venv': venv)"
  }
 },
 "nbformat": 4,
 "nbformat_minor": 2
}